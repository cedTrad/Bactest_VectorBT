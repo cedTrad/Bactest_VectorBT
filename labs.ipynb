{
 "cells": [
  {
   "cell_type": "code",
   "execution_count": 2,
   "metadata": {},
   "outputs": [
    {
     "name": "stdout",
     "output_type": "stream",
     "text": [
      "The autoreload extension is already loaded. To reload it, use:\n",
      "  %reload_ext autoreload\n"
     ]
    }
   ],
   "source": [
    "import optuna\n",
    "import vectorbt as vbt\n",
    "from datetime import datetime, timedelta\n",
    "\n",
    "\n",
    "from generator import BacktestDataGenerator\n",
    "from processor import Processor\n",
    "\n",
    "from sampling import Sampling, OptimConfig\n",
    "\n",
    "\n",
    "%load_ext autoreload\n",
    "%autoreload 2"
   ]
  },
  {
   "cell_type": "code",
   "execution_count": null,
   "metadata": {},
   "outputs": [],
   "source": [
    "import optuna\n",
    "import vectorbt as vbt\n",
    "\n",
    "class KamaOptimizer:\n",
    "    def __init__(self, data):\n",
    "        \"\"\"\n",
    "        Initialisation de l'optimiseur avec les données.\n",
    "        :param data: Données d'entrée pour l'optimisation\n",
    "        \"\"\"\n",
    "        self.data = data.copy()  # Utilise une copie pour ne pas affecter l'original\n",
    "        self.processor = None\n",
    "\n",
    "    def apply_kama(self, fast, slow):\n",
    "        \"\"\"\n",
    "        Applique le KAMA rapide et lent sur les données.\n",
    "        :param fast: La fenêtre du KAMA rapide\n",
    "        :param slow: La fenêtre du KAMA lent\n",
    "        \"\"\"\n",
    "        self.processor = Processor(self.data)\n",
    "        self.processor.apply_kama(name='kama_fast', level='5m', window=fast)\n",
    "        self.processor.apply_kama(name='kama_slow', level='5m', window=slow)\n",
    "        self.data = self.data.dropna()\n",
    "\n",
    "    def kama_strategy(self, fast, slow):\n",
    "        \"\"\"\n",
    "        Applique la stratégie KAMA et retourne le portefeuille.\n",
    "        :param fast: La fenêtre du KAMA rapide\n",
    "        :param slow: La fenêtre du KAMA lent\n",
    "        :return: Portefeuille de la stratégie\n",
    "        \"\"\"\n",
    "        self.apply_kama(fast, slow)\n",
    "        price = self.data.groupby(level='5m')['close'].last()\n",
    "        kama_fast = self.data.groupby(level='5m')['kama_fast_5m'].last()\n",
    "        kama_slow = self.data.groupby(level='5m')['kama_slow_5m'].last()\n",
    "        \n",
    "        entries = kama_fast > kama_slow\n",
    "        exits = kama_fast < kama_slow\n",
    "        pf = vbt.Portfolio.from_signals(price, entries, exits)\n",
    "        return pf\n",
    "\n",
    "    def objective(self, trial):\n",
    "        \"\"\"\n",
    "        Fonction objectif pour Optuna. Utilisée pour l'optimisation des paramètres.\n",
    "        :param trial: L'essai actuel d'Optuna\n",
    "        :return: Le Sharpe ratio du portefeuille\n",
    "        \"\"\"\n",
    "        fast = trial.suggest_int('fast', 2, 20)\n",
    "        slow = trial.suggest_int('slow', 20, 50)\n",
    "        \n",
    "        pf = self.kama_strategy(fast, slow)\n",
    "        return pf.sharpe_ratio()\n",
    "\n",
    "    def optimize(self, n_trials=50):\n",
    "        \"\"\"\n",
    "        Effectue l'optimisation avec Optuna.\n",
    "        :param n_trials: Nombre d'essais d'optimisation\n",
    "        :return: Meilleurs paramètres trouvés\n",
    "        \"\"\"\n",
    "        study = optuna.create_study(direction='maximize')\n",
    "        study.optimize(self.objective, n_trials=n_trials)\n",
    "        \n",
    "        print(\"Best params:\", study.best_params)\n",
    "        return study.best_params\n",
    "    \n",
    "    def walk_forward(self, start, end, optim_config: OptimConfig, n_trials=20):\n",
    "        \"\"\"\n",
    "        Effectue une optimisation walk-forward sur les splits générés par Sampling.\n",
    "        :param start: date de début (datetime)\n",
    "        :param end: date de fin (datetime)\n",
    "        :param optim_config: instance d'OptimConfig\n",
    "        :param n_trials: nombre d'essais Optuna par split\n",
    "        :return: liste des résultats (params et Sharpe sur chaque fenêtre)\n",
    "        \"\"\"\n",
    "        sampler = Sampling(start, end, optim_config)\n",
    "        splits = sampler.generate_splits()\n",
    "        results = []\n",
    "\n",
    "        for i, ((train_start, train_end), (test_start, test_end)) in enumerate(splits):\n",
    "            # Sélectionne les données pour chaque split\n",
    "            train_data = self.data[(self.data.index.get_level_values('5m') >= train_start) & (self.data.index.get_level_values('5m') <= train_end)]\n",
    "            test_data = self.data[(self.data.index.get_level_values('5m') >= test_start) & (self.data.index.get_level_values('5m') <= test_end)]\n",
    "\n",
    "            # Optimisation sur train\n",
    "            self.data = train_data.copy()\n",
    "            study = optuna.create_study(direction='maximize')\n",
    "            study.optimize(self.objective, n_trials=n_trials)\n",
    "            best_params = study.best_params\n",
    "\n",
    "            # Test sur test\n",
    "            self.data = test_data.copy()\n",
    "            pf = self.kama_strategy(best_params['fast'], best_params['slow'])\n",
    "            sharpe = pf.sharpe_ratio()\n",
    "\n",
    "            results.append({\n",
    "                'split': i,\n",
    "                'train_period': (train_start, train_end),\n",
    "                'test_period': (test_start, test_end),\n",
    "                'best_params': best_params,\n",
    "                'test_sharpe': sharpe\n",
    "            })\n",
    "            print(f\"Split {i}: Sharpe={sharpe:.2f}, Params={best_params}\")\n",
    "\n",
    "        return results\n",
    "\n"
   ]
  },
  {
   "cell_type": "code",
   "execution_count": null,
   "metadata": {},
   "outputs": [
    {
     "name": "stderr",
     "output_type": "stream",
     "text": [
      "2025-04-26 13:02:23,555 - utils - INFO - DataGenerator initialized ✅\n",
      "2025-04-26 13:02:37,220 - utils - INFO - Data loaded from DB for BTCUSDT: 18144 bars ✅\n",
      "[I 2025-04-26 13:02:42,846] A new study created in memory with name: no-name-79eac9fd-c5e4-464e-ade4-e16aeacbe6a1\n",
      "[I 2025-04-26 13:03:17,191] Trial 0 finished with value: 1.3777147066323858 and parameters: {'fast': 13, 'slow': 34}. Best is trial 0 with value: 1.3777147066323858.\n",
      "[I 2025-04-26 13:03:17,296] Trial 1 finished with value: 0.5422296157499975 and parameters: {'fast': 13, 'slow': 22}. Best is trial 0 with value: 1.3777147066323858.\n",
      "[I 2025-04-26 13:03:17,395] Trial 2 finished with value: -0.17301904084844386 and parameters: {'fast': 4, 'slow': 48}. Best is trial 0 with value: 1.3777147066323858.\n",
      "[I 2025-04-26 13:03:17,482] Trial 3 finished with value: -2.020939643272845 and parameters: {'fast': 5, 'slow': 23}. Best is trial 0 with value: 1.3777147066323858.\n",
      "[I 2025-04-26 13:03:17,563] Trial 4 finished with value: 1.36676217872797 and parameters: {'fast': 16, 'slow': 23}. Best is trial 0 with value: 1.3777147066323858.\n"
     ]
    },
    {
     "name": "stdout",
     "output_type": "stream",
     "text": [
      "Best params: {'fast': 13, 'slow': 34}\n"
     ]
    }
   ],
   "source": [
    "SIZE = 0\n",
    "INTERVAL = '5m'\n",
    "START = datetime(2025, 1, 1)\n",
    "END = datetime(2025, 3, 5)\n",
    "generator = BacktestDataGenerator(interval=INTERVAL, size=SIZE,\n",
    "                                  start_date=START, end_date=END)\n",
    "\n",
    "\n",
    "data = generator.get_data(\"BTCUSDT\")\n",
    "\n",
    "\n",
    "optim_config = OptimConfig(\n",
    "    optimization_period=30,\n",
    "    gap_period=5,\n",
    "    validation_period=10,\n",
    "    n_splits=3\n",
    ")\n",
    "\n",
    "\n",
    "# Exemple d'utilisation\n",
    "optimizer = KamaOptimizer(data)  # Données à fournir ici\n",
    "best_params = optimizer.optimize(n_trials=5)"
   ]
  },
  {
   "cell_type": "code",
   "execution_count": null,
   "metadata": {},
   "outputs": [
    {
     "name": "stderr",
     "output_type": "stream",
     "text": [
      "[I 2025-04-26 13:03:17,925] A new study created in memory with name: no-name-a9f9f843-dddc-4500-9524-b0ad87d310cb\n",
      "[I 2025-04-26 13:03:18,001] Trial 0 finished with value: 3.696650133220926 and parameters: {'fast': 12, 'slow': 29}. Best is trial 0 with value: 3.696650133220926.\n",
      "[I 2025-04-26 13:03:18,059] Trial 1 finished with value: 2.016450488650532 and parameters: {'fast': 4, 'slow': 49}. Best is trial 0 with value: 3.696650133220926.\n",
      "[I 2025-04-26 13:03:18,121] Trial 2 finished with value: 2.0002760613445068 and parameters: {'fast': 11, 'slow': 25}. Best is trial 0 with value: 3.696650133220926.\n",
      "[I 2025-04-26 13:03:18,229] Trial 3 finished with value: 1.0320633681626543 and parameters: {'fast': 14, 'slow': 25}. Best is trial 0 with value: 3.696650133220926.\n",
      "[I 2025-04-26 13:03:18,343] Trial 4 finished with value: 3.174515324342958 and parameters: {'fast': 11, 'slow': 42}. Best is trial 0 with value: 3.696650133220926.\n",
      "[I 2025-04-26 13:03:18,430] Trial 5 finished with value: 2.5179185969401927 and parameters: {'fast': 11, 'slow': 47}. Best is trial 0 with value: 3.696650133220926.\n",
      "[I 2025-04-26 13:03:18,510] Trial 6 finished with value: 2.513861483584537 and parameters: {'fast': 11, 'slow': 44}. Best is trial 0 with value: 3.696650133220926.\n",
      "[I 2025-04-26 13:03:18,582] Trial 7 finished with value: 4.303471862468904 and parameters: {'fast': 11, 'slow': 32}. Best is trial 7 with value: 4.303471862468904.\n",
      "[I 2025-04-26 13:03:18,646] Trial 8 finished with value: 1.555899424069763 and parameters: {'fast': 10, 'slow': 26}. Best is trial 7 with value: 4.303471862468904.\n",
      "[I 2025-04-26 13:03:18,738] Trial 9 finished with value: 2.5118613053755974 and parameters: {'fast': 14, 'slow': 36}. Best is trial 7 with value: 4.303471862468904.\n",
      "[I 2025-04-26 13:03:18,816] A new study created in memory with name: no-name-1554d615-89f3-48fa-9c1c-fb1cdd5f8a69\n",
      "[I 2025-04-26 13:03:18,877] Trial 0 finished with value: 4.399006453175445 and parameters: {'fast': 8, 'slow': 25}. Best is trial 0 with value: 4.399006453175445.\n",
      "[I 2025-04-26 13:03:18,935] Trial 1 finished with value: -3.2141796934329054 and parameters: {'fast': 2, 'slow': 26}. Best is trial 0 with value: 4.399006453175445.\n"
     ]
    },
    {
     "name": "stdout",
     "output_type": "stream",
     "text": [
      "Split 0: Sharpe=-0.10, Params={'fast': 11, 'slow': 32}\n"
     ]
    },
    {
     "name": "stderr",
     "output_type": "stream",
     "text": [
      "[I 2025-04-26 13:03:19,003] Trial 2 finished with value: 3.862923073524103 and parameters: {'fast': 14, 'slow': 39}. Best is trial 0 with value: 4.399006453175445.\n",
      "[I 2025-04-26 13:03:19,077] Trial 3 finished with value: -0.12662538746360685 and parameters: {'fast': 4, 'slow': 47}. Best is trial 0 with value: 4.399006453175445.\n",
      "[I 2025-04-26 13:03:19,209] Trial 4 finished with value: -5.044666093200579 and parameters: {'fast': 16, 'slow': 20}. Best is trial 0 with value: 4.399006453175445.\n",
      "[I 2025-04-26 13:03:19,323] Trial 5 finished with value: 1.1443807526399916 and parameters: {'fast': 14, 'slow': 33}. Best is trial 0 with value: 4.399006453175445.\n",
      "[I 2025-04-26 13:03:19,407] Trial 6 finished with value: 8.246086190484345 and parameters: {'fast': 19, 'slow': 42}. Best is trial 6 with value: 8.246086190484345.\n",
      "[I 2025-04-26 13:03:19,483] Trial 7 finished with value: 2.401807324159428 and parameters: {'fast': 8, 'slow': 38}. Best is trial 6 with value: 8.246086190484345.\n",
      "[I 2025-04-26 13:03:19,541] Trial 8 finished with value: 10.646705387144829 and parameters: {'fast': 9, 'slow': 25}. Best is trial 8 with value: 10.646705387144829.\n",
      "[I 2025-04-26 13:03:19,589] Trial 9 finished with value: 7.192162042720199 and parameters: {'fast': 13, 'slow': 25}. Best is trial 8 with value: 10.646705387144829.\n",
      "[I 2025-04-26 13:03:19,645] A new study created in memory with name: no-name-a5126aaf-64cd-4f5e-a7d6-c76574230d04\n",
      "[I 2025-04-26 13:03:19,689] Trial 0 finished with value: -0.2532895994584839 and parameters: {'fast': 9, 'slow': 45}. Best is trial 0 with value: -0.2532895994584839.\n",
      "[I 2025-04-26 13:03:19,742] Trial 1 finished with value: -12.889922947695542 and parameters: {'fast': 8, 'slow': 25}. Best is trial 0 with value: -0.2532895994584839.\n",
      "[I 2025-04-26 13:03:19,796] Trial 2 finished with value: -14.079684439585339 and parameters: {'fast': 4, 'slow': 24}. Best is trial 0 with value: -0.2532895994584839.\n",
      "[I 2025-04-26 13:03:19,851] Trial 3 finished with value: 4.198043226328482 and parameters: {'fast': 16, 'slow': 39}. Best is trial 3 with value: 4.198043226328482.\n"
     ]
    },
    {
     "name": "stdout",
     "output_type": "stream",
     "text": [
      "Split 1: Sharpe=-4.30, Params={'fast': 9, 'slow': 25}\n"
     ]
    },
    {
     "name": "stderr",
     "output_type": "stream",
     "text": [
      "[I 2025-04-26 13:03:19,925] Trial 4 finished with value: -12.34598035201686 and parameters: {'fast': 3, 'slow': 30}. Best is trial 3 with value: 4.198043226328482.\n",
      "[I 2025-04-26 13:03:20,665] Trial 5 finished with value: inf and parameters: {'fast': 5, 'slow': 31}. Best is trial 5 with value: inf.\n",
      "[I 2025-04-26 13:03:20,732] Trial 6 finished with value: inf and parameters: {'fast': 16, 'slow': 23}. Best is trial 5 with value: inf.\n",
      "[I 2025-04-26 13:03:20,797] Trial 7 finished with value: -114.62983904725681 and parameters: {'fast': 13, 'slow': 39}. Best is trial 5 with value: inf.\n",
      "[W 2025-04-26 13:03:20,842] Trial 8 failed with parameters: {'fast': 20, 'slow': 45} because of the following error: ValueError('Index frequency is None. Pass it as `freq` or define it globally under `settings.array_wrapper`.').\n",
      "Traceback (most recent call last):\n",
      "  File \"c:\\Users\\Dell\\miniconda3\\envs\\csyst_test\\Lib\\site-packages\\optuna\\study\\_optimize.py\", line 197, in _run_trial\n",
      "    value_or_values = func(trial)\n",
      "                      ^^^^^^^^^^^\n",
      "  File \"C:\\Users\\Dell\\AppData\\Local\\Temp\\ipykernel_28816\\3788980129.py\", line 51, in objective\n",
      "    return pf.sharpe_ratio()\n",
      "           ^^^^^^^^^^^^^^^^^\n",
      "  File \"c:\\Users\\Dell\\miniconda3\\envs\\csyst_test\\Lib\\site-packages\\vectorbt\\utils\\decorators.py\", line 443, in wrapper\n",
      "    return cached_func(*args, **kwargs)\n",
      "           ^^^^^^^^^^^^^^^^^^^^^^^^^^^^\n",
      "  File \"c:\\Users\\Dell\\miniconda3\\envs\\csyst_test\\Lib\\site-packages\\vectorbt\\utils\\decorators.py\", line 413, in partial_func\n",
      "    return func(instance, *args, **kwargs)\n",
      "           ^^^^^^^^^^^^^^^^^^^^^^^^^^^^^^^\n",
      "  File \"c:\\Users\\Dell\\miniconda3\\envs\\csyst_test\\Lib\\site-packages\\vectorbt\\portfolio\\decorators.py\", line 48, in new_method\n",
      "    return getattr(returns_acc, _source_name)(**kwargs)\n",
      "           ^^^^^^^^^^^^^^^^^^^^^^^^^^^^^^^^^^^^^^^^^^^^\n",
      "  File \"c:\\Users\\Dell\\miniconda3\\envs\\csyst_test\\Lib\\site-packages\\vectorbt\\returns\\accessors.py\", line 454, in sharpe_ratio\n",
      "    result = nb.sharpe_ratio_nb(self.to_2d_array(), self.ann_factor, risk_free, ddof)\n",
      "                                                    ^^^^^^^^^^^^^^^\n",
      "  File \"c:\\Users\\Dell\\miniconda3\\envs\\csyst_test\\Lib\\site-packages\\vectorbt\\returns\\accessors.py\", line 275, in ann_factor\n",
      "    raise ValueError(\"Index frequency is None. \"\n",
      "ValueError: Index frequency is None. Pass it as `freq` or define it globally under `settings.array_wrapper`.\n",
      "[W 2025-04-26 13:03:20,861] Trial 8 failed with value None.\n"
     ]
    },
    {
     "ename": "ValueError",
     "evalue": "Index frequency is None. Pass it as `freq` or define it globally under `settings.array_wrapper`.",
     "output_type": "error",
     "traceback": [
      "\u001b[1;31m---------------------------------------------------------------------------\u001b[0m",
      "\u001b[1;31mValueError\u001b[0m                                Traceback (most recent call last)",
      "Cell \u001b[1;32mIn[5], line 1\u001b[0m\n\u001b[1;32m----> 1\u001b[0m results \u001b[38;5;241m=\u001b[39m \u001b[43moptimizer\u001b[49m\u001b[38;5;241;43m.\u001b[39;49m\u001b[43mwalk_forward\u001b[49m\u001b[43m(\u001b[49m\u001b[43mSTART\u001b[49m\u001b[43m,\u001b[49m\u001b[43m \u001b[49m\u001b[43mEND\u001b[49m\u001b[43m,\u001b[49m\u001b[43m \u001b[49m\u001b[43moptim_config\u001b[49m\u001b[43m,\u001b[49m\u001b[43m \u001b[49m\u001b[43mn_trials\u001b[49m\u001b[38;5;241;43m=\u001b[39;49m\u001b[38;5;241;43m10\u001b[39;49m\u001b[43m)\u001b[49m\n",
      "Cell \u001b[1;32mIn[3], line 86\u001b[0m, in \u001b[0;36mKamaOptimizer.walk_forward\u001b[1;34m(self, start, end, optim_config, n_trials)\u001b[0m\n\u001b[0;32m     84\u001b[0m \u001b[38;5;28mself\u001b[39m\u001b[38;5;241m.\u001b[39mdata \u001b[38;5;241m=\u001b[39m train_data\u001b[38;5;241m.\u001b[39mcopy()\n\u001b[0;32m     85\u001b[0m study \u001b[38;5;241m=\u001b[39m optuna\u001b[38;5;241m.\u001b[39mcreate_study(direction\u001b[38;5;241m=\u001b[39m\u001b[38;5;124m'\u001b[39m\u001b[38;5;124mmaximize\u001b[39m\u001b[38;5;124m'\u001b[39m)\n\u001b[1;32m---> 86\u001b[0m \u001b[43mstudy\u001b[49m\u001b[38;5;241;43m.\u001b[39;49m\u001b[43moptimize\u001b[49m\u001b[43m(\u001b[49m\u001b[38;5;28;43mself\u001b[39;49m\u001b[38;5;241;43m.\u001b[39;49m\u001b[43mobjective\u001b[49m\u001b[43m,\u001b[49m\u001b[43m \u001b[49m\u001b[43mn_trials\u001b[49m\u001b[38;5;241;43m=\u001b[39;49m\u001b[43mn_trials\u001b[49m\u001b[43m)\u001b[49m\n\u001b[0;32m     87\u001b[0m best_params \u001b[38;5;241m=\u001b[39m study\u001b[38;5;241m.\u001b[39mbest_params\n\u001b[0;32m     89\u001b[0m \u001b[38;5;66;03m# Test sur test\u001b[39;00m\n",
      "File \u001b[1;32mc:\\Users\\Dell\\miniconda3\\envs\\csyst_test\\Lib\\site-packages\\optuna\\study\\study.py:475\u001b[0m, in \u001b[0;36mStudy.optimize\u001b[1;34m(self, func, n_trials, timeout, n_jobs, catch, callbacks, gc_after_trial, show_progress_bar)\u001b[0m\n\u001b[0;32m    373\u001b[0m \u001b[38;5;28;01mdef\u001b[39;00m \u001b[38;5;21moptimize\u001b[39m(\n\u001b[0;32m    374\u001b[0m     \u001b[38;5;28mself\u001b[39m,\n\u001b[0;32m    375\u001b[0m     func: ObjectiveFuncType,\n\u001b[1;32m   (...)\u001b[0m\n\u001b[0;32m    382\u001b[0m     show_progress_bar: \u001b[38;5;28mbool\u001b[39m \u001b[38;5;241m=\u001b[39m \u001b[38;5;28;01mFalse\u001b[39;00m,\n\u001b[0;32m    383\u001b[0m ) \u001b[38;5;241m-\u001b[39m\u001b[38;5;241m>\u001b[39m \u001b[38;5;28;01mNone\u001b[39;00m:\n\u001b[0;32m    384\u001b[0m \u001b[38;5;250m    \u001b[39m\u001b[38;5;124;03m\"\"\"Optimize an objective function.\u001b[39;00m\n\u001b[0;32m    385\u001b[0m \n\u001b[0;32m    386\u001b[0m \u001b[38;5;124;03m    Optimization is done by choosing a suitable set of hyperparameter values from a given\u001b[39;00m\n\u001b[1;32m   (...)\u001b[0m\n\u001b[0;32m    473\u001b[0m \u001b[38;5;124;03m            If nested invocation of this method occurs.\u001b[39;00m\n\u001b[0;32m    474\u001b[0m \u001b[38;5;124;03m    \"\"\"\u001b[39;00m\n\u001b[1;32m--> 475\u001b[0m     \u001b[43m_optimize\u001b[49m\u001b[43m(\u001b[49m\n\u001b[0;32m    476\u001b[0m \u001b[43m        \u001b[49m\u001b[43mstudy\u001b[49m\u001b[38;5;241;43m=\u001b[39;49m\u001b[38;5;28;43mself\u001b[39;49m\u001b[43m,\u001b[49m\n\u001b[0;32m    477\u001b[0m \u001b[43m        \u001b[49m\u001b[43mfunc\u001b[49m\u001b[38;5;241;43m=\u001b[39;49m\u001b[43mfunc\u001b[49m\u001b[43m,\u001b[49m\n\u001b[0;32m    478\u001b[0m \u001b[43m        \u001b[49m\u001b[43mn_trials\u001b[49m\u001b[38;5;241;43m=\u001b[39;49m\u001b[43mn_trials\u001b[49m\u001b[43m,\u001b[49m\n\u001b[0;32m    479\u001b[0m \u001b[43m        \u001b[49m\u001b[43mtimeout\u001b[49m\u001b[38;5;241;43m=\u001b[39;49m\u001b[43mtimeout\u001b[49m\u001b[43m,\u001b[49m\n\u001b[0;32m    480\u001b[0m \u001b[43m        \u001b[49m\u001b[43mn_jobs\u001b[49m\u001b[38;5;241;43m=\u001b[39;49m\u001b[43mn_jobs\u001b[49m\u001b[43m,\u001b[49m\n\u001b[0;32m    481\u001b[0m \u001b[43m        \u001b[49m\u001b[43mcatch\u001b[49m\u001b[38;5;241;43m=\u001b[39;49m\u001b[38;5;28;43mtuple\u001b[39;49m\u001b[43m(\u001b[49m\u001b[43mcatch\u001b[49m\u001b[43m)\u001b[49m\u001b[43m \u001b[49m\u001b[38;5;28;43;01mif\u001b[39;49;00m\u001b[43m \u001b[49m\u001b[38;5;28;43misinstance\u001b[39;49m\u001b[43m(\u001b[49m\u001b[43mcatch\u001b[49m\u001b[43m,\u001b[49m\u001b[43m \u001b[49m\u001b[43mIterable\u001b[49m\u001b[43m)\u001b[49m\u001b[43m \u001b[49m\u001b[38;5;28;43;01melse\u001b[39;49;00m\u001b[43m \u001b[49m\u001b[43m(\u001b[49m\u001b[43mcatch\u001b[49m\u001b[43m,\u001b[49m\u001b[43m)\u001b[49m\u001b[43m,\u001b[49m\n\u001b[0;32m    482\u001b[0m \u001b[43m        \u001b[49m\u001b[43mcallbacks\u001b[49m\u001b[38;5;241;43m=\u001b[39;49m\u001b[43mcallbacks\u001b[49m\u001b[43m,\u001b[49m\n\u001b[0;32m    483\u001b[0m \u001b[43m        \u001b[49m\u001b[43mgc_after_trial\u001b[49m\u001b[38;5;241;43m=\u001b[39;49m\u001b[43mgc_after_trial\u001b[49m\u001b[43m,\u001b[49m\n\u001b[0;32m    484\u001b[0m \u001b[43m        \u001b[49m\u001b[43mshow_progress_bar\u001b[49m\u001b[38;5;241;43m=\u001b[39;49m\u001b[43mshow_progress_bar\u001b[49m\u001b[43m,\u001b[49m\n\u001b[0;32m    485\u001b[0m \u001b[43m    \u001b[49m\u001b[43m)\u001b[49m\n",
      "File \u001b[1;32mc:\\Users\\Dell\\miniconda3\\envs\\csyst_test\\Lib\\site-packages\\optuna\\study\\_optimize.py:63\u001b[0m, in \u001b[0;36m_optimize\u001b[1;34m(study, func, n_trials, timeout, n_jobs, catch, callbacks, gc_after_trial, show_progress_bar)\u001b[0m\n\u001b[0;32m     61\u001b[0m \u001b[38;5;28;01mtry\u001b[39;00m:\n\u001b[0;32m     62\u001b[0m     \u001b[38;5;28;01mif\u001b[39;00m n_jobs \u001b[38;5;241m==\u001b[39m \u001b[38;5;241m1\u001b[39m:\n\u001b[1;32m---> 63\u001b[0m         \u001b[43m_optimize_sequential\u001b[49m\u001b[43m(\u001b[49m\n\u001b[0;32m     64\u001b[0m \u001b[43m            \u001b[49m\u001b[43mstudy\u001b[49m\u001b[43m,\u001b[49m\n\u001b[0;32m     65\u001b[0m \u001b[43m            \u001b[49m\u001b[43mfunc\u001b[49m\u001b[43m,\u001b[49m\n\u001b[0;32m     66\u001b[0m \u001b[43m            \u001b[49m\u001b[43mn_trials\u001b[49m\u001b[43m,\u001b[49m\n\u001b[0;32m     67\u001b[0m \u001b[43m            \u001b[49m\u001b[43mtimeout\u001b[49m\u001b[43m,\u001b[49m\n\u001b[0;32m     68\u001b[0m \u001b[43m            \u001b[49m\u001b[43mcatch\u001b[49m\u001b[43m,\u001b[49m\n\u001b[0;32m     69\u001b[0m \u001b[43m            \u001b[49m\u001b[43mcallbacks\u001b[49m\u001b[43m,\u001b[49m\n\u001b[0;32m     70\u001b[0m \u001b[43m            \u001b[49m\u001b[43mgc_after_trial\u001b[49m\u001b[43m,\u001b[49m\n\u001b[0;32m     71\u001b[0m \u001b[43m            \u001b[49m\u001b[43mreseed_sampler_rng\u001b[49m\u001b[38;5;241;43m=\u001b[39;49m\u001b[38;5;28;43;01mFalse\u001b[39;49;00m\u001b[43m,\u001b[49m\n\u001b[0;32m     72\u001b[0m \u001b[43m            \u001b[49m\u001b[43mtime_start\u001b[49m\u001b[38;5;241;43m=\u001b[39;49m\u001b[38;5;28;43;01mNone\u001b[39;49;00m\u001b[43m,\u001b[49m\n\u001b[0;32m     73\u001b[0m \u001b[43m            \u001b[49m\u001b[43mprogress_bar\u001b[49m\u001b[38;5;241;43m=\u001b[39;49m\u001b[43mprogress_bar\u001b[49m\u001b[43m,\u001b[49m\n\u001b[0;32m     74\u001b[0m \u001b[43m        \u001b[49m\u001b[43m)\u001b[49m\n\u001b[0;32m     75\u001b[0m     \u001b[38;5;28;01melse\u001b[39;00m:\n\u001b[0;32m     76\u001b[0m         \u001b[38;5;28;01mif\u001b[39;00m n_jobs \u001b[38;5;241m==\u001b[39m \u001b[38;5;241m-\u001b[39m\u001b[38;5;241m1\u001b[39m:\n",
      "File \u001b[1;32mc:\\Users\\Dell\\miniconda3\\envs\\csyst_test\\Lib\\site-packages\\optuna\\study\\_optimize.py:160\u001b[0m, in \u001b[0;36m_optimize_sequential\u001b[1;34m(study, func, n_trials, timeout, catch, callbacks, gc_after_trial, reseed_sampler_rng, time_start, progress_bar)\u001b[0m\n\u001b[0;32m    157\u001b[0m         \u001b[38;5;28;01mbreak\u001b[39;00m\n\u001b[0;32m    159\u001b[0m \u001b[38;5;28;01mtry\u001b[39;00m:\n\u001b[1;32m--> 160\u001b[0m     frozen_trial \u001b[38;5;241m=\u001b[39m \u001b[43m_run_trial\u001b[49m\u001b[43m(\u001b[49m\u001b[43mstudy\u001b[49m\u001b[43m,\u001b[49m\u001b[43m \u001b[49m\u001b[43mfunc\u001b[49m\u001b[43m,\u001b[49m\u001b[43m \u001b[49m\u001b[43mcatch\u001b[49m\u001b[43m)\u001b[49m\n\u001b[0;32m    161\u001b[0m \u001b[38;5;28;01mfinally\u001b[39;00m:\n\u001b[0;32m    162\u001b[0m     \u001b[38;5;66;03m# The following line mitigates memory problems that can be occurred in some\u001b[39;00m\n\u001b[0;32m    163\u001b[0m     \u001b[38;5;66;03m# environments (e.g., services that use computing containers such as GitHub Actions).\u001b[39;00m\n\u001b[0;32m    164\u001b[0m     \u001b[38;5;66;03m# Please refer to the following PR for further details:\u001b[39;00m\n\u001b[0;32m    165\u001b[0m     \u001b[38;5;66;03m# https://github.com/optuna/optuna/pull/325.\u001b[39;00m\n\u001b[0;32m    166\u001b[0m     \u001b[38;5;28;01mif\u001b[39;00m gc_after_trial:\n",
      "File \u001b[1;32mc:\\Users\\Dell\\miniconda3\\envs\\csyst_test\\Lib\\site-packages\\optuna\\study\\_optimize.py:248\u001b[0m, in \u001b[0;36m_run_trial\u001b[1;34m(study, func, catch)\u001b[0m\n\u001b[0;32m    241\u001b[0m         \u001b[38;5;28;01massert\u001b[39;00m \u001b[38;5;28;01mFalse\u001b[39;00m, \u001b[38;5;124m\"\u001b[39m\u001b[38;5;124mShould not reach.\u001b[39m\u001b[38;5;124m\"\u001b[39m\n\u001b[0;32m    243\u001b[0m \u001b[38;5;28;01mif\u001b[39;00m (\n\u001b[0;32m    244\u001b[0m     frozen_trial\u001b[38;5;241m.\u001b[39mstate \u001b[38;5;241m==\u001b[39m TrialState\u001b[38;5;241m.\u001b[39mFAIL\n\u001b[0;32m    245\u001b[0m     \u001b[38;5;129;01mand\u001b[39;00m func_err \u001b[38;5;129;01mis\u001b[39;00m \u001b[38;5;129;01mnot\u001b[39;00m \u001b[38;5;28;01mNone\u001b[39;00m\n\u001b[0;32m    246\u001b[0m     \u001b[38;5;129;01mand\u001b[39;00m \u001b[38;5;129;01mnot\u001b[39;00m \u001b[38;5;28misinstance\u001b[39m(func_err, catch)\n\u001b[0;32m    247\u001b[0m ):\n\u001b[1;32m--> 248\u001b[0m     \u001b[38;5;28;01mraise\u001b[39;00m func_err\n\u001b[0;32m    249\u001b[0m \u001b[38;5;28;01mreturn\u001b[39;00m frozen_trial\n",
      "File \u001b[1;32mc:\\Users\\Dell\\miniconda3\\envs\\csyst_test\\Lib\\site-packages\\optuna\\study\\_optimize.py:197\u001b[0m, in \u001b[0;36m_run_trial\u001b[1;34m(study, func, catch)\u001b[0m\n\u001b[0;32m    195\u001b[0m \u001b[38;5;28;01mwith\u001b[39;00m get_heartbeat_thread(trial\u001b[38;5;241m.\u001b[39m_trial_id, study\u001b[38;5;241m.\u001b[39m_storage):\n\u001b[0;32m    196\u001b[0m     \u001b[38;5;28;01mtry\u001b[39;00m:\n\u001b[1;32m--> 197\u001b[0m         value_or_values \u001b[38;5;241m=\u001b[39m \u001b[43mfunc\u001b[49m\u001b[43m(\u001b[49m\u001b[43mtrial\u001b[49m\u001b[43m)\u001b[49m\n\u001b[0;32m    198\u001b[0m     \u001b[38;5;28;01mexcept\u001b[39;00m exceptions\u001b[38;5;241m.\u001b[39mTrialPruned \u001b[38;5;28;01mas\u001b[39;00m e:\n\u001b[0;32m    199\u001b[0m         \u001b[38;5;66;03m# TODO(mamu): Handle multi-objective cases.\u001b[39;00m\n\u001b[0;32m    200\u001b[0m         state \u001b[38;5;241m=\u001b[39m TrialState\u001b[38;5;241m.\u001b[39mPRUNED\n",
      "Cell \u001b[1;32mIn[3], line 51\u001b[0m, in \u001b[0;36mKamaOptimizer.objective\u001b[1;34m(self, trial)\u001b[0m\n\u001b[0;32m     48\u001b[0m slow \u001b[38;5;241m=\u001b[39m trial\u001b[38;5;241m.\u001b[39msuggest_int(\u001b[38;5;124m'\u001b[39m\u001b[38;5;124mslow\u001b[39m\u001b[38;5;124m'\u001b[39m, \u001b[38;5;241m20\u001b[39m, \u001b[38;5;241m50\u001b[39m)\n\u001b[0;32m     50\u001b[0m pf \u001b[38;5;241m=\u001b[39m \u001b[38;5;28mself\u001b[39m\u001b[38;5;241m.\u001b[39mkama_strategy(fast, slow)\n\u001b[1;32m---> 51\u001b[0m \u001b[38;5;28;01mreturn\u001b[39;00m \u001b[43mpf\u001b[49m\u001b[38;5;241;43m.\u001b[39;49m\u001b[43msharpe_ratio\u001b[49m\u001b[43m(\u001b[49m\u001b[43m)\u001b[49m\n",
      "File \u001b[1;32mc:\\Users\\Dell\\miniconda3\\envs\\csyst_test\\Lib\\site-packages\\vectorbt\\utils\\decorators.py:443\u001b[0m, in \u001b[0;36mcached_method.<locals>.decorator.<locals>.wrapper\u001b[1;34m(instance, *args, **kwargs)\u001b[0m\n\u001b[0;32m    440\u001b[0m \u001b[38;5;28;01mif\u001b[39;00m \u001b[38;5;129;01mnot\u001b[39;00m hashable:\n\u001b[0;32m    441\u001b[0m     \u001b[38;5;66;03m# If not, do not invoke lru_cache\u001b[39;00m\n\u001b[0;32m    442\u001b[0m     \u001b[38;5;28;01mreturn\u001b[39;00m func(instance, \u001b[38;5;241m*\u001b[39margs, \u001b[38;5;241m*\u001b[39m\u001b[38;5;241m*\u001b[39mkwargs)\n\u001b[1;32m--> 443\u001b[0m \u001b[38;5;28;01mreturn\u001b[39;00m \u001b[43mcached_func\u001b[49m\u001b[43m(\u001b[49m\u001b[38;5;241;43m*\u001b[39;49m\u001b[43margs\u001b[49m\u001b[43m,\u001b[49m\u001b[43m \u001b[49m\u001b[38;5;241;43m*\u001b[39;49m\u001b[38;5;241;43m*\u001b[39;49m\u001b[43mkwargs\u001b[49m\u001b[43m)\u001b[49m\n",
      "File \u001b[1;32mc:\\Users\\Dell\\miniconda3\\envs\\csyst_test\\Lib\\site-packages\\vectorbt\\utils\\decorators.py:413\u001b[0m, in \u001b[0;36mcached_method.<locals>.decorator.<locals>.wrapper.<locals>.partial_func\u001b[1;34m(*args, **kwargs)\u001b[0m\n\u001b[0;32m    411\u001b[0m \u001b[38;5;28;01mdef\u001b[39;00m \u001b[38;5;21mpartial_func\u001b[39m(\u001b[38;5;241m*\u001b[39margs, \u001b[38;5;241m*\u001b[39m\u001b[38;5;241m*\u001b[39mkwargs) \u001b[38;5;241m-\u001b[39m\u001b[38;5;241m>\u001b[39m tp\u001b[38;5;241m.\u001b[39mAny:\n\u001b[0;32m    412\u001b[0m     \u001b[38;5;66;03m# Ignores non-hashable instances\u001b[39;00m\n\u001b[1;32m--> 413\u001b[0m     \u001b[38;5;28;01mreturn\u001b[39;00m \u001b[43mfunc\u001b[49m\u001b[43m(\u001b[49m\u001b[43minstance\u001b[49m\u001b[43m,\u001b[49m\u001b[43m \u001b[49m\u001b[38;5;241;43m*\u001b[39;49m\u001b[43margs\u001b[49m\u001b[43m,\u001b[49m\u001b[43m \u001b[49m\u001b[38;5;241;43m*\u001b[39;49m\u001b[38;5;241;43m*\u001b[39;49m\u001b[43mkwargs\u001b[49m\u001b[43m)\u001b[49m\n",
      "File \u001b[1;32mc:\\Users\\Dell\\miniconda3\\envs\\csyst_test\\Lib\\site-packages\\vectorbt\\portfolio\\decorators.py:48\u001b[0m, in \u001b[0;36mattach_returns_acc_methods.<locals>.wrapper.<locals>.new_method\u001b[1;34m(self, group_by, benchmark_rets, freq, year_freq, use_asset_returns, _source_name, **kwargs)\u001b[0m\n\u001b[0;32m     32\u001b[0m \u001b[38;5;28;01mdef\u001b[39;00m \u001b[38;5;21mnew_method\u001b[39m(\u001b[38;5;28mself\u001b[39m,\n\u001b[0;32m     33\u001b[0m                \u001b[38;5;241m*\u001b[39m,\n\u001b[0;32m     34\u001b[0m                group_by: tp\u001b[38;5;241m.\u001b[39mGroupByLike \u001b[38;5;241m=\u001b[39m \u001b[38;5;28;01mNone\u001b[39;00m,\n\u001b[1;32m   (...)\u001b[0m\n\u001b[0;32m     39\u001b[0m                _source_name: \u001b[38;5;28mstr\u001b[39m \u001b[38;5;241m=\u001b[39m source_name,\n\u001b[0;32m     40\u001b[0m                \u001b[38;5;241m*\u001b[39m\u001b[38;5;241m*\u001b[39mkwargs) \u001b[38;5;241m-\u001b[39m\u001b[38;5;241m>\u001b[39m tp\u001b[38;5;241m.\u001b[39mAny:\n\u001b[0;32m     41\u001b[0m     returns_acc \u001b[38;5;241m=\u001b[39m \u001b[38;5;28mself\u001b[39m\u001b[38;5;241m.\u001b[39mget_returns_acc(\n\u001b[0;32m     42\u001b[0m         group_by\u001b[38;5;241m=\u001b[39mgroup_by,\n\u001b[0;32m     43\u001b[0m         benchmark_rets\u001b[38;5;241m=\u001b[39mbenchmark_rets,\n\u001b[1;32m   (...)\u001b[0m\n\u001b[0;32m     46\u001b[0m         use_asset_returns\u001b[38;5;241m=\u001b[39muse_asset_returns\n\u001b[0;32m     47\u001b[0m     )\n\u001b[1;32m---> 48\u001b[0m     \u001b[38;5;28;01mreturn\u001b[39;00m \u001b[38;5;28;43mgetattr\u001b[39;49m\u001b[43m(\u001b[49m\u001b[43mreturns_acc\u001b[49m\u001b[43m,\u001b[49m\u001b[43m \u001b[49m\u001b[43m_source_name\u001b[49m\u001b[43m)\u001b[49m\u001b[43m(\u001b[49m\u001b[38;5;241;43m*\u001b[39;49m\u001b[38;5;241;43m*\u001b[39;49m\u001b[43mkwargs\u001b[49m\u001b[43m)\u001b[49m\n",
      "File \u001b[1;32mc:\\Users\\Dell\\miniconda3\\envs\\csyst_test\\Lib\\site-packages\\vectorbt\\returns\\accessors.py:454\u001b[0m, in \u001b[0;36mReturnsAccessor.sharpe_ratio\u001b[1;34m(self, risk_free, ddof, wrap_kwargs)\u001b[0m\n\u001b[0;32m    452\u001b[0m \u001b[38;5;28;01mif\u001b[39;00m ddof \u001b[38;5;129;01mis\u001b[39;00m \u001b[38;5;28;01mNone\u001b[39;00m:\n\u001b[0;32m    453\u001b[0m     ddof \u001b[38;5;241m=\u001b[39m \u001b[38;5;28mself\u001b[39m\u001b[38;5;241m.\u001b[39mdefaults[\u001b[38;5;124m'\u001b[39m\u001b[38;5;124mddof\u001b[39m\u001b[38;5;124m'\u001b[39m]\n\u001b[1;32m--> 454\u001b[0m result \u001b[38;5;241m=\u001b[39m nb\u001b[38;5;241m.\u001b[39msharpe_ratio_nb(\u001b[38;5;28mself\u001b[39m\u001b[38;5;241m.\u001b[39mto_2d_array(), \u001b[38;5;28;43mself\u001b[39;49m\u001b[38;5;241;43m.\u001b[39;49m\u001b[43mann_factor\u001b[49m, risk_free, ddof)\n\u001b[0;32m    455\u001b[0m wrap_kwargs \u001b[38;5;241m=\u001b[39m merge_dicts(\u001b[38;5;28mdict\u001b[39m(name_or_index\u001b[38;5;241m=\u001b[39m\u001b[38;5;124m'\u001b[39m\u001b[38;5;124msharpe_ratio\u001b[39m\u001b[38;5;124m'\u001b[39m), wrap_kwargs)\n\u001b[0;32m    456\u001b[0m \u001b[38;5;28;01mreturn\u001b[39;00m \u001b[38;5;28mself\u001b[39m\u001b[38;5;241m.\u001b[39mwrapper\u001b[38;5;241m.\u001b[39mwrap_reduced(result, group_by\u001b[38;5;241m=\u001b[39m\u001b[38;5;28;01mFalse\u001b[39;00m, \u001b[38;5;241m*\u001b[39m\u001b[38;5;241m*\u001b[39mwrap_kwargs)\n",
      "File \u001b[1;32mc:\\Users\\Dell\\miniconda3\\envs\\csyst_test\\Lib\\site-packages\\vectorbt\\returns\\accessors.py:275\u001b[0m, in \u001b[0;36mReturnsAccessor.ann_factor\u001b[1;34m(self)\u001b[0m\n\u001b[0;32m    273\u001b[0m \u001b[38;5;250m\u001b[39m\u001b[38;5;124;03m\"\"\"Get annualization factor.\"\"\"\u001b[39;00m\n\u001b[0;32m    274\u001b[0m \u001b[38;5;28;01mif\u001b[39;00m \u001b[38;5;28mself\u001b[39m\u001b[38;5;241m.\u001b[39mwrapper\u001b[38;5;241m.\u001b[39mfreq \u001b[38;5;129;01mis\u001b[39;00m \u001b[38;5;28;01mNone\u001b[39;00m:\n\u001b[1;32m--> 275\u001b[0m     \u001b[38;5;28;01mraise\u001b[39;00m \u001b[38;5;167;01mValueError\u001b[39;00m(\u001b[38;5;124m\"\u001b[39m\u001b[38;5;124mIndex frequency is None. \u001b[39m\u001b[38;5;124m\"\u001b[39m\n\u001b[0;32m    276\u001b[0m                      \u001b[38;5;124m\"\u001b[39m\u001b[38;5;124mPass it as `freq` or define it globally under `settings.array_wrapper`.\u001b[39m\u001b[38;5;124m\"\u001b[39m)\n\u001b[0;32m    277\u001b[0m \u001b[38;5;28;01mif\u001b[39;00m \u001b[38;5;28mself\u001b[39m\u001b[38;5;241m.\u001b[39myear_freq \u001b[38;5;129;01mis\u001b[39;00m \u001b[38;5;28;01mNone\u001b[39;00m:\n\u001b[0;32m    278\u001b[0m     \u001b[38;5;28;01mraise\u001b[39;00m \u001b[38;5;167;01mValueError\u001b[39;00m(\u001b[38;5;124m\"\u001b[39m\u001b[38;5;124mYear frequency is None. \u001b[39m\u001b[38;5;124m\"\u001b[39m\n\u001b[0;32m    279\u001b[0m                      \u001b[38;5;124m\"\u001b[39m\u001b[38;5;124mPass `year_freq` or define it globally under `settings.returns`.\u001b[39m\u001b[38;5;124m\"\u001b[39m)\n",
      "\u001b[1;31mValueError\u001b[0m: Index frequency is None. Pass it as `freq` or define it globally under `settings.array_wrapper`."
     ]
    }
   ],
   "source": [
    "results = optimizer.walk_forward(START, END, optim_config, n_trials=10)"
   ]
  },
  {
   "cell_type": "code",
   "execution_count": null,
   "metadata": {},
   "outputs": [],
   "source": [
    "e e "
   ]
  },
  {
   "cell_type": "code",
   "execution_count": null,
   "metadata": {},
   "outputs": [],
   "source": [
    "# Charger les prix BTC-USD\n",
    "price = data['close']\n",
    "\n",
    "# Définir deux moyennes mobiles\n",
    "fast_ma = price.rolling(window=20).mean()\n",
    "slow_ma = price.rolling(window=50).mean()\n",
    "\n",
    "# Générer signaux\n",
    "entries = fast_ma > slow_ma  # On entre en position quand rapide > lente\n",
    "exits = fast_ma < slow_ma    # On sort quand rapide < lente\n",
    "\n",
    "# Créer un portefeuille à partir des signaux\n",
    "portfolio = vbt.Portfolio.from_signals(\n",
    "    close=price,\n",
    "    entries=entries,\n",
    "    exits=exits,\n",
    "    init_cash=10_000,\n",
    "    fees=0.001  # exemple de frais 0.1%\n",
    ")\n"
   ]
  },
  {
   "cell_type": "code",
   "execution_count": null,
   "metadata": {},
   "outputs": [],
   "source": [
    "# Résultats\n",
    "print(portfolio.stats())\n",
    "portfolio.plot().show()\n"
   ]
  }
 ],
 "metadata": {
  "kernelspec": {
   "display_name": "csyst_test",
   "language": "python",
   "name": "python3"
  },
  "language_info": {
   "codemirror_mode": {
    "name": "ipython",
    "version": 3
   },
   "file_extension": ".py",
   "mimetype": "text/x-python",
   "name": "python",
   "nbconvert_exporter": "python",
   "pygments_lexer": "ipython3",
   "version": "3.12.9"
  }
 },
 "nbformat": 4,
 "nbformat_minor": 2
}
